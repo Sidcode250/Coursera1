{
 "cells": [
  {
   "cell_type": "markdown",
   "id": "74c56dee-cdbf-4d52-a883-c43efe5fb84c",
   "metadata": {},
   "source": [
    "Data Science Tools and Ecosystem"
   ]
  },
  {
   "cell_type": "markdown",
   "id": "048d97bb-ee05-4585-a9f9-64d4b8f507fe",
   "metadata": {},
   "source": [
    "In this notebook, Data Science Tools and Ecosystem are summarized."
   ]
  },
  {
   "cell_type": "markdown",
   "id": "945bf649-775f-4815-9c97-c5d29dde51ff",
   "metadata": {},
   "source": [
    "**Objectives:**\n",
    "- Python\n",
    "- R\n",
    "- Julia"
   ]
  },
  {
   "cell_type": "markdown",
   "id": "ce8207c6-c782-4ae8-a17f-3bbd2b9c6377",
   "metadata": {},
   "source": [
    "Some of the popular languages that Data Scientists use are: [Python, R, Julia]"
   ]
  },
  {
   "cell_type": "markdown",
   "id": "82cb3431-f79d-43ca-b59c-92a16d0e425f",
   "metadata": {},
   "source": [
    "Some of the commonly used libraries used by Data Scientists include:\n",
    "[matplotlib, numpy, pandas]"
   ]
  },
  {
   "cell_type": "markdown",
   "id": "e000cc40-44c6-4117-bbde-63f8db28e064",
   "metadata": {},
   "source": [
    "|Data Science Tools|\n",
    "|------------------|\n",
    "|jupyter notebook|\n",
    "|Rstudio|\n",
    "|zeppelin Notebooks|"
   ]
  },
  {
   "cell_type": "markdown",
   "id": "baf89426-ca3e-4a98-9c3a-86dc4131180c",
   "metadata": {},
   "source": [
    "Below are a few examples of evaluating arithmetic expressions in Python"
   ]
  },
  {
   "cell_type": "code",
   "execution_count": 3,
   "id": "60db45fb-9a6c-4f04-a60f-d45185dbd0c0",
   "metadata": {},
   "outputs": [
    {
     "data": {
      "text/plain": [
       "17"
      ]
     },
     "execution_count": 3,
     "metadata": {},
     "output_type": "execute_result"
    }
   ],
   "source": [
    "#This a simple arithmetic expression to mutiply then add integers\n",
    "(3*4)+5"
   ]
  },
  {
   "cell_type": "code",
   "execution_count": 5,
   "id": "c0d44a65-560d-4fd8-b94b-6ee41a19541e",
   "metadata": {},
   "outputs": [
    {
     "name": "stdout",
     "output_type": "stream",
     "text": [
      "3.3333333333333335\n"
     ]
    }
   ],
   "source": [
    "minutes = 200\n",
    "hours = minutes / 60\n",
    "print(hours)"
   ]
  },
  {
   "cell_type": "markdown",
   "id": "08b9b126-c5ac-4f79-986d-7a21e947bab8",
   "metadata": {},
   "source": [
    "## Author\n",
    "Sid"
   ]
  }
 ],
 "metadata": {
  "kernelspec": {
   "display_name": "Python [conda env:base] *",
   "language": "python",
   "name": "conda-base-py"
  },
  "language_info": {
   "codemirror_mode": {
    "name": "ipython",
    "version": 3
   },
   "file_extension": ".py",
   "mimetype": "text/x-python",
   "name": "python",
   "nbconvert_exporter": "python",
   "pygments_lexer": "ipython3",
   "version": "3.12.7"
  }
 },
 "nbformat": 4,
 "nbformat_minor": 5
}
